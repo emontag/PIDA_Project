{
 "cells": [
  {
   "cell_type": "markdown",
   "metadata": {},
   "source": [
    "## Do all preliminary operations"
   ]
  },
  {
   "cell_type": "code",
   "execution_count": null,
   "metadata": {},
   "outputs": [],
   "source": [
    "%matplotlib inline"
   ]
  },
  {
   "cell_type": "code",
   "execution_count": null,
   "metadata": {},
   "outputs": [],
   "source": [
    "import os\n",
    "import json\n",
    "import matplotlib.pyplot as plt"
   ]
  },
  {
   "cell_type": "code",
   "execution_count": null,
   "metadata": {},
   "outputs": [],
   "source": [
    "json_wd = os.path.join(os.getcwd(),'json')\n",
    "print (json_wd)"
   ]
  },
  {
   "cell_type": "code",
   "execution_count": null,
   "metadata": {},
   "outputs": [],
   "source": [
    "from os import listdir\n",
    "from os.path import isfile, join\n",
    "\n",
    "jsonfiles = [f for f in listdir(json_wd) if isfile(join(json_wd, f))]"
   ]
  },
  {
   "cell_type": "code",
   "execution_count": null,
   "metadata": {},
   "outputs": [],
   "source": [
    "print(len(jsonfiles))"
   ]
  },
  {
   "cell_type": "markdown",
   "metadata": {},
   "source": [
    "## Import JSON files"
   ]
  },
  {
   "cell_type": "code",
   "execution_count": null,
   "metadata": {},
   "outputs": [],
   "source": [
    "#input all json files and load into list\n",
    "all_files=[]\n",
    "for filename in jsonfiles:\n",
    "    print(filename)#allows for easy debugging of JSON files\n",
    "    file=open(os.path.join(json_wd, filename))\n",
    "    data=json.load(file)\n",
    "    all_files.append(data)\n",
    "    file.close()\n",
    "    #data=json.loads(filename)\n",
    "print (all_files[0])"
   ]
  },
  {
   "cell_type": "markdown",
   "metadata": {},
   "source": [
    "## Make all the links using tags"
   ]
  },
  {
   "cell_type": "code",
   "execution_count": null,
   "metadata": {},
   "outputs": [],
   "source": [
    "all_links=[]\n",
    "dataset_list=[]\n",
    "for index, file in enumerate(all_files):\n",
    "    #print (list(file.keys())[0], \"is the name of the dataset\")\n",
    "    name=list(file.keys())[0]\n",
    "    dataset_list.append(name)\n",
    "    #print (list(file[name].keys()), \"are the column names\")\n",
    "    for col in file[name].keys():\n",
    "        #print (\"Under column \", col, \"are tags \", file[name][col])\n",
    "        for tag in file[name][col]:\n",
    "            #print (\"Tag: \", tag)\n",
    "            for secondindex in range (index+1, len(all_files)):\n",
    "                secondname=list(all_files[secondindex].keys())[0]\n",
    "                for secondcol in all_files[secondindex][secondname].keys():\n",
    "                    #print (\"Under second column \", secondcol, \"are tags \", all_files[secondindex][secondname][secondcol])\n",
    "                    for secondtag in all_files[secondindex][secondname][secondcol]:\n",
    "                        #print (\"Tag: \", secondtag)\n",
    "                        #do all checking for common tags here\n",
    "                        if tag.upper()==secondtag.upper() and index is not secondindex:\n",
    "                            print (name, \"and\", secondname, \"are linked at column\", col, \"and column\", secondcol, \"through tag\", tag)\n",
    "                            all_links.append([name.upper(), col.upper(), tag.upper() , secondname.upper(), secondcol.upper(), secondtag.upper()])\n",
    "print (len(all_links))"
   ]
  },
  {
   "cell_type": "markdown",
   "metadata": {},
   "source": [
    "## Reformat list for easy access"
   ]
  },
  {
   "cell_type": "code",
   "execution_count": null,
   "metadata": {},
   "outputs": [],
   "source": [
    "full_tree=[]#make tag most important\n",
    "for sublist in all_links:\n",
    "    tag=sublist[2]\n",
    "    col1=sublist[1]\n",
    "    col2=sublist[4]\n",
    "    dataset1=sublist[0]\n",
    "    dataset2=sublist[3]\n",
    "    full_tree.append([tag, col1, dataset1, col2, dataset2])\n",
    "#print (full_tree)"
   ]
  },
  {
   "cell_type": "markdown",
   "metadata": {},
   "source": [
    "# Basic Data analysis "
   ]
  },
  {
   "cell_type": "markdown",
   "metadata": {},
   "source": [
    "## Number of times each tag is linked"
   ]
  },
  {
   "cell_type": "code",
   "execution_count": null,
   "metadata": {},
   "outputs": [],
   "source": [
    "tag_dict={}\n",
    "for sublist in full_tree:\n",
    "    try:\n",
    "        tag_dict[sublist[0]]+=1\n",
    "    except Exception:\n",
    "        tag_dict[sublist[0]]=1\n",
    "print (tag_dict)"
   ]
  },
  {
   "cell_type": "code",
   "execution_count": null,
   "metadata": {},
   "outputs": [],
   "source": [
    "li=tag_dict.keys()\n",
    "new_li=[]\n",
    "for l in li:\n",
    "    new_li.append(l[0:3])\n",
    "plt.bar(new_li, tag_dict.values(), .5, color='b')#resize as needed"
   ]
  },
  {
   "cell_type": "markdown",
   "metadata": {},
   "source": [
    "## Number of times each column has associated tags"
   ]
  },
  {
   "cell_type": "code",
   "execution_count": null,
   "metadata": {},
   "outputs": [],
   "source": [
    "col_dict={}\n",
    "for sublist in full_tree:\n",
    "    try:\n",
    "        col_dict[sublist[1]]+=1\n",
    "    except Exception:\n",
    "        col_dict[sublist[1]]=1\n",
    "    try:\n",
    "        col_dict[sublist[3]]+=1\n",
    "    except Exception:\n",
    "        col_dict[sublist[3]]=1\n",
    "print (col_dict)"
   ]
  },
  {
   "cell_type": "code",
   "execution_count": null,
   "metadata": {},
   "outputs": [],
   "source": [
    "li=col_dict.keys()\n",
    "new_li=[]\n",
    "for l in li:\n",
    "    new_li.append(l[0:3])\n",
    "plt.bar(new_li, col_dict.values(), .5, color='g')"
   ]
  },
  {
   "cell_type": "markdown",
   "metadata": {},
   "source": [
    "## Number of links each dataset has"
   ]
  },
  {
   "cell_type": "code",
   "execution_count": null,
   "metadata": {},
   "outputs": [],
   "source": [
    "dataset_dict={}\n",
    "for sublist in full_tree:\n",
    "    try:\n",
    "        dataset_dict[sublist[2]]+=1\n",
    "    except Exception:\n",
    "        dataset_dict[sublist[2]]=1\n",
    "    try:\n",
    "        dataset_dict[sublist[4]]+=1\n",
    "    except Exception:\n",
    "        dataset_dict[sublist[4]]=1\n",
    "print (dataset_dict)"
   ]
  },
  {
   "cell_type": "code",
   "execution_count": null,
   "metadata": {},
   "outputs": [],
   "source": [
    "li=dataset_dict.keys()\n",
    "new_li=[]\n",
    "for l in li:\n",
    "    new_li.append(l[0:3])\n",
    "plt.bar(new_li, dataset_dict.values(), .5, color='r')"
   ]
  },
  {
   "cell_type": "markdown",
   "metadata": {},
   "source": [
    "## Organize linking by tree"
   ]
  },
  {
   "cell_type": "code",
   "execution_count": null,
   "metadata": {},
   "outputs": [],
   "source": [
    "full_tree=sorted(full_tree)"
   ]
  },
  {
   "cell_type": "code",
   "execution_count": null,
   "metadata": {},
   "outputs": [],
   "source": [
    "from anytree import Node, RenderTree, Resolver\n",
    "from anytree.search import find\n",
    "resolver=Resolver('name')\n",
    "dummy=Node('All_Tags')\n",
    "for sublist in full_tree:#Tags\n",
    "    f=find(dummy, lambda node: node.name == sublist[0] and node.depth== 1)\n",
    "    if f is None:\n",
    "        n=Node(sublist[0], parent=dummy)\n",
    "        l=[]\n",
    "        for lis in full_tree:\n",
    "            if lis[1] not in l and lis[0] == n.name:\n",
    "                l.append(lis[1])\n",
    "            if lis[3] not in l and lis[0] == n.name:\n",
    "                l.append(lis[3])\n",
    "        for lis in l:\n",
    "            p=Node(lis, parent=n)\n",
    "            q=[]\n",
    "            for li in full_tree:\n",
    "                #print (li[2],\"second:\" ,li[4])\n",
    "                #print (\"next\")\n",
    "                if li[0] == n.name and li[1]==p.name:\n",
    "                    q.append(li[2])\n",
    "                if li[0] == n.name  and li[3]==p.name:\n",
    "                    q.append(li[4])\n",
    "            q=list(set(q))\n",
    "            for li in q:\n",
    "                r=Node(li, parent=p)\n",
    "            \n",
    "#for pre, fill, node in RenderTree(dummy):\n",
    "#    print(\"%s%s\" % (pre, node.name))"
   ]
  },
  {
   "cell_type": "code",
   "execution_count": null,
   "metadata": {},
   "outputs": [],
   "source": [
    "# from anytree import Node, RenderTree, Resolver\n",
    "# from anytree.search import find\n",
    "# resolver=Resolver('name')\n",
    "# dummy=Node('All_Tags')\n",
    "# for sublist in full_tree:#Tags\n",
    "#     f=find(dummy, lambda node: node.name == sublist[0])\n",
    "#     if f is None:\n",
    "#         n=Node(sublist[0], parent=dummy)\n",
    "# for sublist in full_tree:#Columns\n",
    "#     f=find(dummy, lambda node: node.name == sublist[1])\n",
    "#     if f is None:\n",
    "#         g=find(dummy, lambda node: node.name == sublist[0])\n",
    "#         n=Node(sublist[1], parent=g)   \n",
    "#     f=find(dummy, lambda node: node.name == sublist[3])\n",
    "#     if f is None:\n",
    "#         g=find(dummy, lambda node: node.name == sublist[0])\n",
    "#         n=Node(sublist[3], parent=g) \n",
    "# o=None\n",
    "# p=None\n",
    "# for sublist in full_tree:#todo fix this part up\n",
    "#     try:\n",
    "#         g=find(dummy, lambda node: node.name == sublist[1])\n",
    "#         n=Node(sublist[2], parent=g)\n",
    "#     except Exception:\n",
    "#         pass\n",
    "#     try:\n",
    "#         g=find(dummy, lambda node: node.name == sublist[3])\n",
    "#         n=Node(sublist[4], parent=g)\n",
    "#     except Exception:\n",
    "#         pass"
   ]
  },
  {
   "cell_type": "code",
   "execution_count": null,
   "metadata": {},
   "outputs": [],
   "source": [
    "dummy.children #all the tags should be listed"
   ]
  },
  {
   "cell_type": "code",
   "execution_count": null,
   "metadata": {},
   "outputs": [],
   "source": [
    "# all_leafs=[]\n",
    "# should_leafs=[]\n",
    "# def get_leafs(node):\n",
    "#     for child in node.children:\n",
    "#         get_leafs(child)\n",
    "#     if len(node.children) is 0 and node.depth is 3:\n",
    "#         all_leafs.append(node)\n",
    "# def should_be_leafs(node):\n",
    "#     for child in node.children:\n",
    "#         should_be_leafs(child)\n",
    "#     if len(node.children) is 0:\n",
    "#         if node.name not in should_leafs  and node.depth is 3:\n",
    "#             should_leafs.append(node.name)"
   ]
  },
  {
   "cell_type": "code",
   "execution_count": null,
   "metadata": {},
   "outputs": [],
   "source": [
    "# get_leafs(dummy)\n",
    "# should_be_leafs(dummy)\n",
    "#print (all_leafs)"
   ]
  },
  {
   "cell_type": "code",
   "execution_count": null,
   "metadata": {},
   "outputs": [],
   "source": [
    "for pre, fill, node in RenderTree(dummy):\n",
    "    print(\"%s%s\" % (pre, node.name))"
   ]
  },
  {
   "cell_type": "code",
   "execution_count": null,
   "metadata": {},
   "outputs": [],
   "source": [
    "#This will allow working with 1 subtree by tag at a time\n",
    "l=dummy.children\n",
    "print (l[0])\n",
    "for pre, fill, node in RenderTree(l[0]):\n",
    "    print(\"%s%s\" % (pre, node.name))"
   ]
  },
  {
   "cell_type": "code",
   "execution_count": null,
   "metadata": {},
   "outputs": [],
   "source": [
    "from anytree.exporter import DotExporter\n",
    "DotExporter(l[0]).to_dotfile(\"tree.dot\")"
   ]
  },
  {
   "cell_type": "code",
   "execution_count": null,
   "metadata": {},
   "outputs": [],
   "source": [
    "#for some reason this does not work. Just use regular command prompt\n",
    "#import subprocess\n",
    "#subprocess.Popen('dot tree.dot -T png -o tree.png')"
   ]
  },
  {
   "cell_type": "code",
   "execution_count": null,
   "metadata": {},
   "outputs": [],
   "source": []
  }
 ],
 "metadata": {
  "kernelspec": {
   "display_name": "Python 3",
   "language": "python",
   "name": "python3"
  },
  "language_info": {
   "codemirror_mode": {
    "name": "ipython",
    "version": 3
   },
   "file_extension": ".py",
   "mimetype": "text/x-python",
   "name": "python",
   "nbconvert_exporter": "python",
   "pygments_lexer": "ipython3",
   "version": "3.6.4"
  }
 },
 "nbformat": 4,
 "nbformat_minor": 2
}
