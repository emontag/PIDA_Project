{
 "cells": [
  {
   "cell_type": "code",
   "execution_count": 1,
   "metadata": {},
   "outputs": [],
   "source": [
    "import os\n",
    "import json"
   ]
  },
  {
   "cell_type": "code",
   "execution_count": 2,
   "metadata": {},
   "outputs": [
    {
     "name": "stdout",
     "output_type": "stream",
     "text": [
      "C:\\Users\\ephra\\Documents\\GitHub\\PIDA_Project\\json\n"
     ]
    }
   ],
   "source": [
    "json_wd = os.path.join(os.getcwd(),'json')\n",
    "print (json_wd)"
   ]
  },
  {
   "cell_type": "code",
   "execution_count": 3,
   "metadata": {},
   "outputs": [],
   "source": [
    "from os import listdir\n",
    "from os.path import isfile, join\n",
    "\n",
    "jsonfiles = [f for f in listdir(json_wd) if isfile(join(json_wd, f))]"
   ]
  },
  {
   "cell_type": "code",
   "execution_count": 4,
   "metadata": {},
   "outputs": [
    {
     "name": "stdout",
     "output_type": "stream",
     "text": [
      "2\n"
     ]
    }
   ],
   "source": [
    "print(len(jsonfiles))"
   ]
  },
  {
   "cell_type": "code",
   "execution_count": 5,
   "metadata": {},
   "outputs": [],
   "source": [
    "#input all json files and load into list\n",
    "all_files=[]\n",
    "for filename in jsonfiles:\n",
    "    file=open(os.path.join(json_wd, filename))\n",
    "    data=json.load(file)\n",
    "    all_files.append(data)\n",
    "    file.close()\n",
    "    #data=json.loads(filename)"
   ]
  },
  {
   "cell_type": "code",
   "execution_count": 6,
   "metadata": {},
   "outputs": [
    {
     "name": "stdout",
     "output_type": "stream",
     "text": [
      "Bob  is the name of the dataset\n",
      "{'data': ['along', 'bob', 'another'], 'ele': ['another', 'again']} all columns and tags on dataset\n",
      "['along', 'bob', 'another']\n",
      "['another', 'again']\n"
     ]
    }
   ],
   "source": [
    "#way to access all needed values\n",
    "#print(all_files[0])\n",
    "first_key = list(all_files[0].keys())[0] #this is the name of the dataset\n",
    "print (first_key, \" is the name of the dataset\") \n",
    "print (all_files[0][first_key], \"all columns and tags on dataset\") \n",
    "for i in all_files[0][first_key].keys():\n",
    "    print (all_files[0][first_key][i])"
   ]
  },
  {
   "cell_type": "code",
   "execution_count": 7,
   "metadata": {},
   "outputs": [
    {
     "name": "stdout",
     "output_type": "stream",
     "text": [
      "Bob  and  311  are linked at column  data  and column  test1 through tag another\n",
      "Bob  and  311  are linked at column  ele  and column  test1 through tag another\n",
      "Bob  and  311  are linked at column  ele  and column  test1 through tag again\n",
      "3\n"
     ]
    }
   ],
   "source": [
    "all_links=[]\n",
    "for index, file in enumerate(all_files):\n",
    "    #print (list(file.keys())[0], \"is the name of the dataset\")\n",
    "    name=list(file.keys())[0]\n",
    "    #print (list(file[name].keys()), \"are the column names\")\n",
    "    for col in file[name].keys():\n",
    "        #print (\"Under column \", col, \"are tags \", file[name][col])\n",
    "        for tag in file[name][col]:\n",
    "            #print (\"Tag: \", tag)\n",
    "            for secondindex in range (index+1, len(all_files)):\n",
    "                secondname=list(all_files[secondindex].keys())[0]\n",
    "                for secondcol in all_files[secondindex][secondname].keys():\n",
    "                    #print (\"Under second column \", secondcol, \"are tags \", all_files[secondindex][secondname][secondcol])\n",
    "                    for secondtag in all_files[secondindex][secondname][secondcol]:\n",
    "                        #print (\"Tag: \", secondtag)\n",
    "                        #do all checking for common tags here\n",
    "                        if tag==secondtag:\n",
    "                            print (name, \" and \", secondname, \" are linked at column \", col, \" and column \", secondcol, \"through tag\", tag)\n",
    "                            all_links.append([name, col, tag , secondname, secondcol, secondtag])\n",
    "                        #do all checking for common tags here\n",
    "print (len(all_links))"
   ]
  },
  {
   "cell_type": "code",
   "execution_count": null,
   "metadata": {},
   "outputs": [],
   "source": []
  }
 ],
 "metadata": {
  "kernelspec": {
   "display_name": "Python 3",
   "language": "python",
   "name": "python3"
  },
  "language_info": {
   "codemirror_mode": {
    "name": "ipython",
    "version": 3
   },
   "file_extension": ".py",
   "mimetype": "text/x-python",
   "name": "python",
   "nbconvert_exporter": "python",
   "pygments_lexer": "ipython3",
   "version": "3.6.4"
  }
 },
 "nbformat": 4,
 "nbformat_minor": 2
}
