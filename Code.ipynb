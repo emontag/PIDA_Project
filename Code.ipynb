{
 "cells": [
  {
   "cell_type": "markdown",
   "metadata": {},
   "source": [
    "## Do all preliminary operations"
   ]
  },
  {
   "cell_type": "code",
   "execution_count": 1,
   "metadata": {},
   "outputs": [],
   "source": [
    "%matplotlib inline"
   ]
  },
  {
   "cell_type": "code",
   "execution_count": 2,
   "metadata": {},
   "outputs": [],
   "source": [
    "import os\n",
    "import json\n",
    "import matplotlib.pyplot as plt"
   ]
  },
  {
   "cell_type": "code",
   "execution_count": 3,
   "metadata": {},
   "outputs": [
    {
     "name": "stdout",
     "output_type": "stream",
     "text": [
      "C:\\Users\\ephra\\Documents\\GitHub\\PIDA_Project\\json\n"
     ]
    }
   ],
   "source": [
    "json_wd = os.path.join(os.getcwd(),'json')\n",
    "print (json_wd)"
   ]
  },
  {
   "cell_type": "code",
   "execution_count": 4,
   "metadata": {},
   "outputs": [],
   "source": [
    "from os import listdir\n",
    "from os.path import isfile, join\n",
    "\n",
    "jsonfiles = [f for f in listdir(json_wd) if isfile(join(json_wd, f))]"
   ]
  },
  {
   "cell_type": "code",
   "execution_count": 5,
   "metadata": {},
   "outputs": [
    {
     "name": "stdout",
     "output_type": "stream",
     "text": [
      "5\n"
     ]
    }
   ],
   "source": [
    "print(len(jsonfiles))"
   ]
  },
  {
   "cell_type": "markdown",
   "metadata": {},
   "source": [
    "## Import JSON files"
   ]
  },
  {
   "cell_type": "code",
   "execution_count": 6,
   "metadata": {},
   "outputs": [
    {
     "name": "stdout",
     "output_type": "stream",
     "text": [
      "Civil Service List (Active).json\n",
      "DOB Permit Issuance.json\n",
      "DOB_Job_Application_Filings.json\n",
      "For Hire Vehicles (FHV) - Active Drivers.json\n",
      "For_Hire_Vehicles_(FHV)_-_Active.json\n",
      "{'Civil Service List (Active)': {'first_name': ['name'], 'last_name': ['name']}}\n"
     ]
    }
   ],
   "source": [
    "#input all json files and load into list\n",
    "all_files=[]\n",
    "for filename in jsonfiles:\n",
    "    print(filename)#allows for easy debugging of JSON files\n",
    "    file=open(os.path.join(json_wd, filename))\n",
    "    data=json.load(file)\n",
    "    all_files.append(data)\n",
    "    file.close()\n",
    "    #data=json.loads(filename)\n",
    "print (all_files[0])"
   ]
  },
  {
   "cell_type": "markdown",
   "metadata": {},
   "source": [
    "## Make all the links using tags"
   ]
  },
  {
   "cell_type": "code",
   "execution_count": 7,
   "metadata": {},
   "outputs": [
    {
     "name": "stdout",
     "output_type": "stream",
     "text": [
      "Civil Service List (Active) and DOB Permit Issuance are linked at column first_name and column permittee's_first_name through tag name\n",
      "Civil Service List (Active) and DOB Permit Issuance are linked at column first_name and column permittee's_last_name through tag name\n",
      "Civil Service List (Active) and DOB Permit Issuance are linked at column first_name and column site_safety_mgr's_first_name through tag name\n",
      "Civil Service List (Active) and DOB Permit Issuance are linked at column first_name and column site_safety_mgr's_last_name through tag name\n",
      "Civil Service List (Active) and DOB Permit Issuance are linked at column first_name and column superintendent_name through tag name\n",
      "Civil Service List (Active) and DOB Permit Issuance are linked at column first_name and column owner_s_first_name through tag name\n",
      "Civil Service List (Active) and DOB Permit Issuance are linked at column first_name and column owner_s_last_name through tag name\n",
      "Civil Service List (Active) and DOB Job Application Filings are linked at column first_name and column Applicant's_first_name through tag name\n",
      "Civil Service List (Active) and DOB Job Application Filings are linked at column first_name and column applicant's_last_name through tag name\n",
      "Civil Service List (Active) and DOB Job Application Filings are linked at column first_name and column owner's_first_name through tag name\n",
      "Civil Service List (Active) and DOB Job Application Filings are linked at column first_name and column owner's_last_name through tag name\n",
      "Civil Service List (Active) and For Hire Vehicles (FHV) - Active Drivers are linked at column first_name and column name through tag name\n",
      "Civil Service List (Active) and For Hire Vehicles (FHV) - Active are linked at column first_name and column name through tag name\n",
      "Civil Service List (Active) and DOB Permit Issuance are linked at column last_name and column permittee's_first_name through tag name\n",
      "Civil Service List (Active) and DOB Permit Issuance are linked at column last_name and column permittee's_last_name through tag name\n",
      "Civil Service List (Active) and DOB Permit Issuance are linked at column last_name and column site_safety_mgr's_first_name through tag name\n",
      "Civil Service List (Active) and DOB Permit Issuance are linked at column last_name and column site_safety_mgr's_last_name through tag name\n",
      "Civil Service List (Active) and DOB Permit Issuance are linked at column last_name and column superintendent_name through tag name\n",
      "Civil Service List (Active) and DOB Permit Issuance are linked at column last_name and column owner_s_first_name through tag name\n",
      "Civil Service List (Active) and DOB Permit Issuance are linked at column last_name and column owner_s_last_name through tag name\n",
      "Civil Service List (Active) and DOB Job Application Filings are linked at column last_name and column Applicant's_first_name through tag name\n",
      "Civil Service List (Active) and DOB Job Application Filings are linked at column last_name and column applicant's_last_name through tag name\n",
      "Civil Service List (Active) and DOB Job Application Filings are linked at column last_name and column owner's_first_name through tag name\n",
      "Civil Service List (Active) and DOB Job Application Filings are linked at column last_name and column owner's_last_name through tag name\n",
      "Civil Service List (Active) and For Hire Vehicles (FHV) - Active Drivers are linked at column last_name and column name through tag name\n",
      "Civil Service List (Active) and For Hire Vehicles (FHV) - Active are linked at column last_name and column name through tag name\n",
      "DOB Permit Issuance and DOB Job Application Filings are linked at column borough and column borough through tag location\n",
      "DOB Permit Issuance and DOB Job Application Filings are linked at column borough and column street_name through tag location\n",
      "DOB Permit Issuance and DOB Job Application Filings are linked at column borough and column owner's_house_number through tag location\n",
      "DOB Permit Issuance and DOB Job Application Filings are linked at column borough and column owner's_house_street_name through tag location\n",
      "DOB Permit Issuance and DOB Job Application Filings are linked at column borough and column zip through tag location\n",
      "DOB Permit Issuance and DOB Job Application Filings are linked at column borough and column gis_latitude through tag location\n",
      "DOB Permit Issuance and DOB Job Application Filings are linked at column borough and column gis_longitude through tag location\n",
      "DOB Permit Issuance and For Hire Vehicles (FHV) - Active are linked at column borough and column base_address through tag location\n",
      "DOB Permit Issuance and DOB Job Application Filings are linked at column street_name and column borough through tag location\n",
      "DOB Permit Issuance and DOB Job Application Filings are linked at column street_name and column street_name through tag location\n",
      "DOB Permit Issuance and DOB Job Application Filings are linked at column street_name and column owner's_house_number through tag location\n",
      "DOB Permit Issuance and DOB Job Application Filings are linked at column street_name and column owner's_house_street_name through tag location\n",
      "DOB Permit Issuance and DOB Job Application Filings are linked at column street_name and column zip through tag location\n",
      "DOB Permit Issuance and DOB Job Application Filings are linked at column street_name and column gis_latitude through tag location\n",
      "DOB Permit Issuance and DOB Job Application Filings are linked at column street_name and column gis_longitude through tag location\n",
      "DOB Permit Issuance and For Hire Vehicles (FHV) - Active are linked at column street_name and column base_address through tag location\n",
      "DOB Permit Issuance and DOB Job Application Filings are linked at column street_name and column street_name through tag streetaddress\n",
      "DOB Permit Issuance and DOB Job Application Filings are linked at column street_name and column owner's_house_street_name through tag streetaddress\n",
      "DOB Permit Issuance and DOB Job Application Filings are linked at column zip_code and column borough through tag location\n",
      "DOB Permit Issuance and DOB Job Application Filings are linked at column zip_code and column street_name through tag location\n",
      "DOB Permit Issuance and DOB Job Application Filings are linked at column zip_code and column owner's_house_number through tag location\n",
      "DOB Permit Issuance and DOB Job Application Filings are linked at column zip_code and column owner's_house_street_name through tag location\n",
      "DOB Permit Issuance and DOB Job Application Filings are linked at column zip_code and column zip through tag location\n",
      "DOB Permit Issuance and DOB Job Application Filings are linked at column zip_code and column gis_latitude through tag location\n",
      "DOB Permit Issuance and DOB Job Application Filings are linked at column zip_code and column gis_longitude through tag location\n",
      "DOB Permit Issuance and For Hire Vehicles (FHV) - Active are linked at column zip_code and column base_address through tag location\n",
      "DOB Permit Issuance and DOB Job Application Filings are linked at column zip_code and column zip through tag zipcode\n",
      "DOB Permit Issuance and DOB Job Application Filings are linked at column permittee's_first_name and column Applicant's_first_name through tag name\n",
      "DOB Permit Issuance and DOB Job Application Filings are linked at column permittee's_first_name and column applicant's_last_name through tag name\n",
      "DOB Permit Issuance and DOB Job Application Filings are linked at column permittee's_first_name and column owner's_first_name through tag name\n",
      "DOB Permit Issuance and DOB Job Application Filings are linked at column permittee's_first_name and column owner's_last_name through tag name\n",
      "DOB Permit Issuance and For Hire Vehicles (FHV) - Active Drivers are linked at column permittee's_first_name and column name through tag name\n",
      "DOB Permit Issuance and For Hire Vehicles (FHV) - Active are linked at column permittee's_first_name and column name through tag name\n",
      "DOB Permit Issuance and DOB Job Application Filings are linked at column permittee's_last_name and column Applicant's_first_name through tag name\n",
      "DOB Permit Issuance and DOB Job Application Filings are linked at column permittee's_last_name and column applicant's_last_name through tag name\n",
      "DOB Permit Issuance and DOB Job Application Filings are linked at column permittee's_last_name and column owner's_first_name through tag name\n",
      "DOB Permit Issuance and DOB Job Application Filings are linked at column permittee's_last_name and column owner's_last_name through tag name\n",
      "DOB Permit Issuance and For Hire Vehicles (FHV) - Active Drivers are linked at column permittee's_last_name and column name through tag name\n",
      "DOB Permit Issuance and For Hire Vehicles (FHV) - Active are linked at column permittee's_last_name and column name through tag name\n",
      "DOB Permit Issuance and DOB Job Application Filings are linked at column permittee's_phone and column owners_phone through tag phone\n",
      "DOB Permit Issuance and For Hire Vehicles (FHV) - Active are linked at column permittee's_phone and column base_telephone_number through tag phone\n",
      "DOB Permit Issuance and DOB Job Application Filings are linked at column site_safety_mgr's_first_name and column Applicant's_first_name through tag name\n",
      "DOB Permit Issuance and DOB Job Application Filings are linked at column site_safety_mgr's_first_name and column applicant's_last_name through tag name\n",
      "DOB Permit Issuance and DOB Job Application Filings are linked at column site_safety_mgr's_first_name and column owner's_first_name through tag name\n",
      "DOB Permit Issuance and DOB Job Application Filings are linked at column site_safety_mgr's_first_name and column owner's_last_name through tag name\n",
      "DOB Permit Issuance and For Hire Vehicles (FHV) - Active Drivers are linked at column site_safety_mgr's_first_name and column name through tag name\n",
      "DOB Permit Issuance and For Hire Vehicles (FHV) - Active are linked at column site_safety_mgr's_first_name and column name through tag name\n",
      "DOB Permit Issuance and DOB Job Application Filings are linked at column site_safety_mgr's_last_name and column Applicant's_first_name through tag name\n",
      "DOB Permit Issuance and DOB Job Application Filings are linked at column site_safety_mgr's_last_name and column applicant's_last_name through tag name\n",
      "DOB Permit Issuance and DOB Job Application Filings are linked at column site_safety_mgr's_last_name and column owner's_first_name through tag name\n",
      "DOB Permit Issuance and DOB Job Application Filings are linked at column site_safety_mgr's_last_name and column owner's_last_name through tag name\n",
      "DOB Permit Issuance and For Hire Vehicles (FHV) - Active Drivers are linked at column site_safety_mgr's_last_name and column name through tag name\n",
      "DOB Permit Issuance and For Hire Vehicles (FHV) - Active are linked at column site_safety_mgr's_last_name and column name through tag name\n",
      "DOB Permit Issuance and DOB Job Application Filings are linked at column superintendent_name and column Applicant's_first_name through tag name\n",
      "DOB Permit Issuance and DOB Job Application Filings are linked at column superintendent_name and column applicant's_last_name through tag name\n",
      "DOB Permit Issuance and DOB Job Application Filings are linked at column superintendent_name and column owner's_first_name through tag name\n",
      "DOB Permit Issuance and DOB Job Application Filings are linked at column superintendent_name and column owner's_last_name through tag name\n",
      "DOB Permit Issuance and For Hire Vehicles (FHV) - Active Drivers are linked at column superintendent_name and column name through tag name\n",
      "DOB Permit Issuance and For Hire Vehicles (FHV) - Active are linked at column superintendent_name and column name through tag name\n",
      "DOB Permit Issuance and DOB Job Application Filings are linked at column owner_s_first_name and column Applicant's_first_name through tag name\n",
      "DOB Permit Issuance and DOB Job Application Filings are linked at column owner_s_first_name and column applicant's_last_name through tag name\n",
      "DOB Permit Issuance and DOB Job Application Filings are linked at column owner_s_first_name and column owner's_first_name through tag name\n",
      "DOB Permit Issuance and DOB Job Application Filings are linked at column owner_s_first_name and column owner's_last_name through tag name\n",
      "DOB Permit Issuance and For Hire Vehicles (FHV) - Active Drivers are linked at column owner_s_first_name and column name through tag name\n",
      "DOB Permit Issuance and For Hire Vehicles (FHV) - Active are linked at column owner_s_first_name and column name through tag name\n",
      "DOB Permit Issuance and DOB Job Application Filings are linked at column owner_s_last_name and column Applicant's_first_name through tag name\n",
      "DOB Permit Issuance and DOB Job Application Filings are linked at column owner_s_last_name and column applicant's_last_name through tag name\n",
      "DOB Permit Issuance and DOB Job Application Filings are linked at column owner_s_last_name and column owner's_first_name through tag name\n",
      "DOB Permit Issuance and DOB Job Application Filings are linked at column owner_s_last_name and column owner's_last_name through tag name\n",
      "DOB Permit Issuance and For Hire Vehicles (FHV) - Active Drivers are linked at column owner_s_last_name and column name through tag name\n",
      "DOB Permit Issuance and For Hire Vehicles (FHV) - Active are linked at column owner_s_last_name and column name through tag name\n",
      "DOB Permit Issuance and DOB Job Application Filings are linked at column owner's_house_street_name and column street_name through tag streetaddress\n",
      "DOB Permit Issuance and DOB Job Application Filings are linked at column owner's_house_street_name and column owner's_house_street_name through tag streetaddress\n",
      "DOB Permit Issuance and DOB Job Application Filings are linked at column owner's_house_street_name and column borough through tag location\n",
      "DOB Permit Issuance and DOB Job Application Filings are linked at column owner's_house_street_name and column street_name through tag location\n",
      "DOB Permit Issuance and DOB Job Application Filings are linked at column owner's_house_street_name and column owner's_house_number through tag location\n",
      "DOB Permit Issuance and DOB Job Application Filings are linked at column owner's_house_street_name and column owner's_house_street_name through tag location\n",
      "DOB Permit Issuance and DOB Job Application Filings are linked at column owner's_house_street_name and column zip through tag location\n",
      "DOB Permit Issuance and DOB Job Application Filings are linked at column owner's_house_street_name and column gis_latitude through tag location\n",
      "DOB Permit Issuance and DOB Job Application Filings are linked at column owner's_house_street_name and column gis_longitude through tag location\n",
      "DOB Permit Issuance and For Hire Vehicles (FHV) - Active are linked at column owner's_house_street_name and column base_address through tag location\n",
      "DOB Permit Issuance and DOB Job Application Filings are linked at column owner_s_zip_code and column zip through tag zipcode\n",
      "DOB Permit Issuance and DOB Job Application Filings are linked at column owner_s_zip_code and column borough through tag location\n",
      "DOB Permit Issuance and DOB Job Application Filings are linked at column owner_s_zip_code and column street_name through tag location\n",
      "DOB Permit Issuance and DOB Job Application Filings are linked at column owner_s_zip_code and column owner's_house_number through tag location\n",
      "DOB Permit Issuance and DOB Job Application Filings are linked at column owner_s_zip_code and column owner's_house_street_name through tag location\n",
      "DOB Permit Issuance and DOB Job Application Filings are linked at column owner_s_zip_code and column zip through tag location\n",
      "DOB Permit Issuance and DOB Job Application Filings are linked at column owner_s_zip_code and column gis_latitude through tag location\n",
      "DOB Permit Issuance and DOB Job Application Filings are linked at column owner_s_zip_code and column gis_longitude through tag location\n",
      "DOB Permit Issuance and For Hire Vehicles (FHV) - Active are linked at column owner_s_zip_code and column base_address through tag location\n",
      "DOB Permit Issuance and DOB Job Application Filings are linked at column owner's_phone and column owners_phone through tag phone\n",
      "DOB Permit Issuance and For Hire Vehicles (FHV) - Active are linked at column owner's_phone and column base_telephone_number through tag phone\n",
      "DOB Permit Issuance and DOB Job Application Filings are linked at column gis_latitude and column gis_latitude through tag latitude\n",
      "DOB Permit Issuance and DOB Job Application Filings are linked at column gis_longitude and column gis_longitude through tag longitude\n",
      "DOB Job Application Filings and For Hire Vehicles (FHV) - Active are linked at column borough and column base_address through tag location\n",
      "DOB Job Application Filings and For Hire Vehicles (FHV) - Active are linked at column street_name and column base_address through tag location\n",
      "DOB Job Application Filings and For Hire Vehicles (FHV) - Active Drivers are linked at column Applicant's_first_name and column name through tag name\n",
      "DOB Job Application Filings and For Hire Vehicles (FHV) - Active are linked at column Applicant's_first_name and column name through tag name\n",
      "DOB Job Application Filings and For Hire Vehicles (FHV) - Active Drivers are linked at column applicant's_last_name and column name through tag name\n",
      "DOB Job Application Filings and For Hire Vehicles (FHV) - Active are linked at column applicant's_last_name and column name through tag name\n",
      "DOB Job Application Filings and For Hire Vehicles (FHV) - Active Drivers are linked at column owner's_first_name and column name through tag name\n",
      "DOB Job Application Filings and For Hire Vehicles (FHV) - Active are linked at column owner's_first_name and column name through tag name\n",
      "DOB Job Application Filings and For Hire Vehicles (FHV) - Active Drivers are linked at column owner's_last_name and column name through tag name\n",
      "DOB Job Application Filings and For Hire Vehicles (FHV) - Active are linked at column owner's_last_name and column name through tag name\n",
      "DOB Job Application Filings and For Hire Vehicles (FHV) - Active are linked at column owner's_house_number and column base_address through tag location\n",
      "DOB Job Application Filings and For Hire Vehicles (FHV) - Active are linked at column owner's_house_street_name and column base_address through tag location\n",
      "DOB Job Application Filings and For Hire Vehicles (FHV) - Active are linked at column zip and column base_address through tag location\n",
      "DOB Job Application Filings and For Hire Vehicles (FHV) - Active are linked at column owners_phone and column base_telephone_number through tag phone\n",
      "DOB Job Application Filings and For Hire Vehicles (FHV) - Active are linked at column gis_latitude and column base_address through tag location\n",
      "DOB Job Application Filings and For Hire Vehicles (FHV) - Active are linked at column gis_longitude and column base_address through tag location\n",
      "For Hire Vehicles (FHV) - Active Drivers and For Hire Vehicles (FHV) - Active are linked at column name and column name through tag name\n",
      "137\n"
     ]
    }
   ],
   "source": [
    "all_links=[]\n",
    "dataset_list=[]\n",
    "for index, file in enumerate(all_files):\n",
    "    #print (list(file.keys())[0], \"is the name of the dataset\")\n",
    "    name=list(file.keys())[0]\n",
    "    dataset_list.append(name)\n",
    "    #print (list(file[name].keys()), \"are the column names\")\n",
    "    for col in file[name].keys():\n",
    "        #print (\"Under column \", col, \"are tags \", file[name][col])\n",
    "        for tag in file[name][col]:\n",
    "            #print (\"Tag: \", tag)\n",
    "            for secondindex in range (index+1, len(all_files)):\n",
    "                secondname=list(all_files[secondindex].keys())[0]\n",
    "                for secondcol in all_files[secondindex][secondname].keys():\n",
    "                    #print (\"Under second column \", secondcol, \"are tags \", all_files[secondindex][secondname][secondcol])\n",
    "                    for secondtag in all_files[secondindex][secondname][secondcol]:\n",
    "                        #print (\"Tag: \", secondtag)\n",
    "                        #do all checking for common tags here\n",
    "                        if tag.upper()==secondtag.upper() and index is not secondindex:\n",
    "                            print (name, \"and\", secondname, \"are linked at column\", col, \"and column\", secondcol, \"through tag\", tag)\n",
    "                            all_links.append([name.upper(), col.upper(), tag.upper() , secondname.upper(), secondcol.upper(), secondtag.upper()])\n",
    "print (len(all_links))"
   ]
  },
  {
   "cell_type": "markdown",
   "metadata": {},
   "source": [
    "## Reformat list for easy access"
   ]
  },
  {
   "cell_type": "code",
   "execution_count": 8,
   "metadata": {},
   "outputs": [],
   "source": [
    "full_tree=[]#make tag most important\n",
    "for sublist in all_links:\n",
    "    tag=sublist[2]\n",
    "    col1=sublist[1]\n",
    "    col2=sublist[4]\n",
    "    dataset1=sublist[0]\n",
    "    dataset2=sublist[3]\n",
    "    full_tree.append([tag, col1, dataset1, col2, dataset2])\n",
    "#print (full_tree)"
   ]
  },
  {
   "cell_type": "markdown",
   "metadata": {},
   "source": [
    "# Basic Data analysis "
   ]
  },
  {
   "cell_type": "markdown",
   "metadata": {},
   "source": [
    "## Number of times each tag is linked"
   ]
  },
  {
   "cell_type": "code",
   "execution_count": 9,
   "metadata": {},
   "outputs": [
    {
     "name": "stdout",
     "output_type": "stream",
     "text": [
      "{'NAME': 77, 'LOCATION': 47, 'STREETADDRESS': 4, 'ZIPCODE': 2, 'PHONE': 5, 'LATITUDE': 1, 'LONGITUDE': 1}\n"
     ]
    }
   ],
   "source": [
    "tag_dict={}\n",
    "for sublist in full_tree:\n",
    "    try:\n",
    "        tag_dict[sublist[0]]+=1\n",
    "    except Exception:\n",
    "        tag_dict[sublist[0]]=1\n",
    "print (tag_dict)"
   ]
  },
  {
   "cell_type": "code",
   "execution_count": 10,
   "metadata": {},
   "outputs": [
    {
     "data": {
      "text/plain": [
       "<Container object of 7 artists>"
      ]
     },
     "execution_count": 10,
     "metadata": {},
     "output_type": "execute_result"
    },
    {
     "data": {
      "image/png": "[encoded data removed]",
      "text/plain": [
       "<matplotlib.figure.Figure at 0x250a9ff6dd8>"
      ]
     },
     "metadata": {},
     "output_type": "display_data"
    }
   ],
   "source": [
    "li=tag_dict.keys()\n",
    "new_li=[]\n",
    "for l in li:\n",
    "    new_li.append(l[0:3])\n",
    "plt.bar(new_li, tag_dict.values(), .5, color='b')#resize as needed"
   ]
  },
  {
   "cell_type": "markdown",
   "metadata": {},
   "source": [
    "## Number of times each column has associated tags"
   ]
  },
  {
   "cell_type": "code",
   "execution_count": 11,
   "metadata": {},
   "outputs": [
    {
     "name": "stdout",
     "output_type": "stream",
     "text": [
      "{'FIRST_NAME': 13, \"PERMITTEE'S_FIRST_NAME\": 8, \"PERMITTEE'S_LAST_NAME\": 8, \"SITE_SAFETY_MGR'S_FIRST_NAME\": 8, \"SITE_SAFETY_MGR'S_LAST_NAME\": 8, 'SUPERINTENDENT_NAME': 8, 'OWNER_S_FIRST_NAME': 8, 'OWNER_S_LAST_NAME': 8, \"APPLICANT'S_FIRST_NAME\": 11, \"APPLICANT'S_LAST_NAME\": 11, \"OWNER'S_FIRST_NAME\": 11, \"OWNER'S_LAST_NAME\": 11, 'NAME': 28, 'LAST_NAME': 13, 'BOROUGH': 14, 'STREET_NAME': 18, \"OWNER'S_HOUSE_NUMBER\": 6, \"OWNER'S_HOUSE_STREET_NAME\": 18, 'ZIP': 8, 'GIS_LATITUDE': 8, 'GIS_LONGITUDE': 8, 'BASE_ADDRESS': 12, 'ZIP_CODE': 9, \"PERMITTEE'S_PHONE\": 2, 'OWNERS_PHONE': 3, 'BASE_TELEPHONE_NUMBER': 3, 'OWNER_S_ZIP_CODE': 9, \"OWNER'S_PHONE\": 2}\n"
     ]
    }
   ],
   "source": [
    "col_dict={}\n",
    "for sublist in full_tree:\n",
    "    try:\n",
    "        col_dict[sublist[1]]+=1\n",
    "    except Exception:\n",
    "        col_dict[sublist[1]]=1\n",
    "    try:\n",
    "        col_dict[sublist[3]]+=1\n",
    "    except Exception:\n",
    "        col_dict[sublist[3]]=1\n",
    "print (col_dict)"
   ]
  },
  {
   "cell_type": "code",
   "execution_count": 12,
   "metadata": {},
   "outputs": [
    {
     "data": {
      "text/plain": [
       "<Container object of 28 artists>"
      ]
     },
     "execution_count": 12,
     "metadata": {},
     "output_type": "execute_result"
    },
    {
     "data": {
      "image/png": "[encoded data removed]",
      "text/plain": [
       "<matplotlib.figure.Figure at 0x250a9ff6048>"
      ]
     },
     "metadata": {},
     "output_type": "display_data"
    }
   ],
   "source": [
    "li=col_dict.keys()\n",
    "new_li=[]\n",
    "for l in li:\n",
    "    new_li.append(l[0:3])\n",
    "plt.bar(new_li, col_dict.values(), .5, color='g')"
   ]
  },
  {
   "cell_type": "markdown",
   "metadata": {},
   "source": [
    "## Number of links each dataset has"
   ]
  },
  {
   "cell_type": "code",
   "execution_count": 13,
   "metadata": {},
   "outputs": [
    {
     "name": "stdout",
     "output_type": "stream",
     "text": [
      "{'CIVIL SERVICE LIST (ACTIVE)': 26, 'DOB PERMIT ISSUANCE': 108, 'DOB JOB APPLICATION FILINGS': 97, 'FOR HIRE VEHICLES (FHV) - ACTIVE DRIVERS': 14, 'FOR HIRE VEHICLES (FHV) - ACTIVE': 29}\n"
     ]
    }
   ],
   "source": [
    "dataset_dict={}\n",
    "for sublist in full_tree:\n",
    "    try:\n",
    "        dataset_dict[sublist[2]]+=1\n",
    "    except Exception:\n",
    "        dataset_dict[sublist[2]]=1\n",
    "    try:\n",
    "        dataset_dict[sublist[4]]+=1\n",
    "    except Exception:\n",
    "        dataset_dict[sublist[4]]=1\n",
    "print (dataset_dict)"
   ]
  },
  {
   "cell_type": "code",
   "execution_count": 14,
   "metadata": {},
   "outputs": [
    {
     "data": {
      "text/plain": [
       "<Container object of 5 artists>"
      ]
     },
     "execution_count": 14,
     "metadata": {},
     "output_type": "execute_result"
    },
    {
     "data": {
      "image/png": "[encoded data removed]",
      "text/plain": [
       "<matplotlib.figure.Figure at 0x250a9ff6080>"
      ]
     },
     "metadata": {},
     "output_type": "display_data"
    }
   ],
   "source": [
    "li=dataset_dict.keys()\n",
    "new_li=[]\n",
    "for l in li:\n",
    "    new_li.append(l[0:3])\n",
    "plt.bar(new_li, dataset_dict.values(), .5, color='r')"
   ]
  },
  {
   "cell_type": "markdown",
   "metadata": {},
   "source": [
    "## Organize linking by tree"
   ]
  },
  {
   "cell_type": "code",
   "execution_count": 15,
   "metadata": {},
   "outputs": [],
   "source": [
    "full_tree=sorted(full_tree)"
   ]
  },
  {
   "cell_type": "code",
   "execution_count": 16,
   "metadata": {},
   "outputs": [],
   "source": [
    "from anytree import Node, RenderTree, Resolver\n",
    "from anytree.search import find\n",
    "resolver=Resolver('name')\n",
    "dummy=Node('All_Tags')\n",
    "for sublist in full_tree:#Tags\n",
    "    f=find(dummy, lambda node: node.name == sublist[0] and node.depth== 1)\n",
    "    if f is None:\n",
    "        n=Node(sublist[0], parent=dummy)\n",
    "        l=[]\n",
    "        for lis in full_tree:\n",
    "            if lis[1] not in l and lis[0] == n.name:\n",
    "                l.append(lis[1])\n",
    "            if lis[3] not in l and lis[0] == n.name:\n",
    "                l.append(lis[3])\n",
    "        for lis in l:\n",
    "            p=Node(lis, parent=n)\n",
    "            q=[]\n",
    "            for li in full_tree:\n",
    "                #print (li[2],\"second:\" ,li[4])\n",
    "                #print (\"next\")\n",
    "                if li[0] == n.name and li[1]==p.name:\n",
    "                    q.append(li[2])\n",
    "                if li[0] == n.name  and li[3]==p.name:\n",
    "                    q.append(li[4])\n",
    "            q=list(set(q))\n",
    "            for li in q:\n",
    "                r=Node(li, parent=p)\n",
    "            \n",
    "#for pre, fill, node in RenderTree(dummy):\n",
    "#    print(\"%s%s\" % (pre, node.name))"
   ]
  },
  {
   "cell_type": "code",
   "execution_count": 17,
   "metadata": {},
   "outputs": [],
   "source": [
    "# from anytree import Node, RenderTree, Resolver\n",
    "# from anytree.search import find\n",
    "# resolver=Resolver('name')\n",
    "# dummy=Node('All_Tags')\n",
    "# for sublist in full_tree:#Tags\n",
    "#     f=find(dummy, lambda node: node.name == sublist[0])\n",
    "#     if f is None:\n",
    "#         n=Node(sublist[0], parent=dummy)\n",
    "# for sublist in full_tree:#Columns\n",
    "#     f=find(dummy, lambda node: node.name == sublist[1])\n",
    "#     if f is None:\n",
    "#         g=find(dummy, lambda node: node.name == sublist[0])\n",
    "#         n=Node(sublist[1], parent=g)   \n",
    "#     f=find(dummy, lambda node: node.name == sublist[3])\n",
    "#     if f is None:\n",
    "#         g=find(dummy, lambda node: node.name == sublist[0])\n",
    "#         n=Node(sublist[3], parent=g) \n",
    "# o=None\n",
    "# p=None\n",
    "# for sublist in full_tree:#todo fix this part up\n",
    "#     try:\n",
    "#         g=find(dummy, lambda node: node.name == sublist[1])\n",
    "#         n=Node(sublist[2], parent=g)\n",
    "#     except Exception:\n",
    "#         pass\n",
    "#     try:\n",
    "#         g=find(dummy, lambda node: node.name == sublist[3])\n",
    "#         n=Node(sublist[4], parent=g)\n",
    "#     except Exception:\n",
    "#         pass"
   ]
  },
  {
   "cell_type": "code",
   "execution_count": 18,
   "metadata": {},
   "outputs": [
    {
     "data": {
      "text/plain": [
       "(Node('/All_Tags/LATITUDE'),\n",
       " Node('/All_Tags/LOCATION'),\n",
       " Node('/All_Tags/LONGITUDE'),\n",
       " Node('/All_Tags/NAME'),\n",
       " Node('/All_Tags/PHONE'),\n",
       " Node('/All_Tags/STREETADDRESS'),\n",
       " Node('/All_Tags/ZIPCODE'))"
      ]
     },
     "execution_count": 18,
     "metadata": {},
     "output_type": "execute_result"
    }
   ],
   "source": [
    "dummy.children #all the tags should be listed"
   ]
  },
  {
   "cell_type": "code",
   "execution_count": 19,
   "metadata": {},
   "outputs": [],
   "source": [
    "# all_leafs=[]\n",
    "# should_leafs=[]\n",
    "# def get_leafs(node):\n",
    "#     for child in node.children:\n",
    "#         get_leafs(child)\n",
    "#     if len(node.children) is 0 and node.depth is 3:\n",
    "#         all_leafs.append(node)\n",
    "# def should_be_leafs(node):\n",
    "#     for child in node.children:\n",
    "#         should_be_leafs(child)\n",
    "#     if len(node.children) is 0:\n",
    "#         if node.name not in should_leafs  and node.depth is 3:\n",
    "#             should_leafs.append(node.name)"
   ]
  },
  {
   "cell_type": "code",
   "execution_count": 20,
   "metadata": {},
   "outputs": [],
   "source": [
    "# get_leafs(dummy)\n",
    "# should_be_leafs(dummy)\n",
    "#print (all_leafs)"
   ]
  },
  {
   "cell_type": "code",
   "execution_count": 21,
   "metadata": {},
   "outputs": [
    {
     "name": "stdout",
     "output_type": "stream",
     "text": [
      "All_Tags\n",
      "├── LATITUDE\n",
      "│   └── GIS_LATITUDE\n",
      "│       ├── DOB PERMIT ISSUANCE\n",
      "│       └── DOB JOB APPLICATION FILINGS\n",
      "├── LOCATION\n",
      "│   ├── BOROUGH\n",
      "│   │   ├── DOB PERMIT ISSUANCE\n",
      "│   │   └── DOB JOB APPLICATION FILINGS\n",
      "│   ├── BASE_ADDRESS\n",
      "│   │   └── FOR HIRE VEHICLES (FHV) - ACTIVE\n",
      "│   ├── GIS_LATITUDE\n",
      "│   │   └── DOB JOB APPLICATION FILINGS\n",
      "│   ├── GIS_LONGITUDE\n",
      "│   │   └── DOB JOB APPLICATION FILINGS\n",
      "│   ├── OWNER'S_HOUSE_NUMBER\n",
      "│   │   └── DOB JOB APPLICATION FILINGS\n",
      "│   ├── OWNER'S_HOUSE_STREET_NAME\n",
      "│   │   ├── DOB PERMIT ISSUANCE\n",
      "│   │   └── DOB JOB APPLICATION FILINGS\n",
      "│   ├── STREET_NAME\n",
      "│   │   ├── DOB PERMIT ISSUANCE\n",
      "│   │   └── DOB JOB APPLICATION FILINGS\n",
      "│   ├── ZIP\n",
      "│   │   └── DOB JOB APPLICATION FILINGS\n",
      "│   ├── OWNER_S_ZIP_CODE\n",
      "│   │   └── DOB PERMIT ISSUANCE\n",
      "│   └── ZIP_CODE\n",
      "│       └── DOB PERMIT ISSUANCE\n",
      "├── LONGITUDE\n",
      "│   └── GIS_LONGITUDE\n",
      "│       ├── DOB PERMIT ISSUANCE\n",
      "│       └── DOB JOB APPLICATION FILINGS\n",
      "├── NAME\n",
      "│   ├── APPLICANT'S_FIRST_NAME\n",
      "│   │   └── DOB JOB APPLICATION FILINGS\n",
      "│   ├── NAME\n",
      "│   │   ├── FOR HIRE VEHICLES (FHV) - ACTIVE DRIVERS\n",
      "│   │   └── FOR HIRE VEHICLES (FHV) - ACTIVE\n",
      "│   ├── APPLICANT'S_LAST_NAME\n",
      "│   │   └── DOB JOB APPLICATION FILINGS\n",
      "│   ├── FIRST_NAME\n",
      "│   │   └── CIVIL SERVICE LIST (ACTIVE)\n",
      "│   ├── OWNER'S_FIRST_NAME\n",
      "│   │   └── DOB JOB APPLICATION FILINGS\n",
      "│   ├── OWNER'S_LAST_NAME\n",
      "│   │   └── DOB JOB APPLICATION FILINGS\n",
      "│   ├── OWNER_S_FIRST_NAME\n",
      "│   │   └── DOB PERMIT ISSUANCE\n",
      "│   ├── OWNER_S_LAST_NAME\n",
      "│   │   └── DOB PERMIT ISSUANCE\n",
      "│   ├── PERMITTEE'S_FIRST_NAME\n",
      "│   │   └── DOB PERMIT ISSUANCE\n",
      "│   ├── PERMITTEE'S_LAST_NAME\n",
      "│   │   └── DOB PERMIT ISSUANCE\n",
      "│   ├── SITE_SAFETY_MGR'S_FIRST_NAME\n",
      "│   │   └── DOB PERMIT ISSUANCE\n",
      "│   ├── SITE_SAFETY_MGR'S_LAST_NAME\n",
      "│   │   └── DOB PERMIT ISSUANCE\n",
      "│   ├── SUPERINTENDENT_NAME\n",
      "│   │   └── DOB PERMIT ISSUANCE\n",
      "│   └── LAST_NAME\n",
      "│       └── CIVIL SERVICE LIST (ACTIVE)\n",
      "├── PHONE\n",
      "│   ├── OWNER'S_PHONE\n",
      "│   │   └── DOB PERMIT ISSUANCE\n",
      "│   ├── BASE_TELEPHONE_NUMBER\n",
      "│   │   └── FOR HIRE VEHICLES (FHV) - ACTIVE\n",
      "│   ├── OWNERS_PHONE\n",
      "│   │   └── DOB JOB APPLICATION FILINGS\n",
      "│   └── PERMITTEE'S_PHONE\n",
      "│       └── DOB PERMIT ISSUANCE\n",
      "├── STREETADDRESS\n",
      "│   ├── OWNER'S_HOUSE_STREET_NAME\n",
      "│   │   ├── DOB PERMIT ISSUANCE\n",
      "│   │   └── DOB JOB APPLICATION FILINGS\n",
      "│   └── STREET_NAME\n",
      "│       ├── DOB PERMIT ISSUANCE\n",
      "│       └── DOB JOB APPLICATION FILINGS\n",
      "└── ZIPCODE\n",
      "    ├── OWNER_S_ZIP_CODE\n",
      "    │   └── DOB PERMIT ISSUANCE\n",
      "    ├── ZIP\n",
      "    │   └── DOB JOB APPLICATION FILINGS\n",
      "    └── ZIP_CODE\n",
      "        └── DOB PERMIT ISSUANCE\n"
     ]
    }
   ],
   "source": [
    "for pre, fill, node in RenderTree(dummy):\n",
    "    print(\"%s%s\" % (pre, node.name))"
   ]
  },
  {
   "cell_type": "code",
   "execution_count": 25,
   "metadata": {},
   "outputs": [
    {
     "name": "stdout",
     "output_type": "stream",
     "text": [
      "Node('/All_Tags/LATITUDE')\n",
      "LATITUDE\n",
      "└── GIS_LATITUDE\n",
      "    ├── DOB PERMIT ISSUANCE\n",
      "    └── DOB JOB APPLICATION FILINGS\n"
     ]
    }
   ],
   "source": [
    "#This will allow working with 1 subtree by tag at a time\n",
    "l=dummy.children\n",
    "print (l[0])\n",
    "for pre, fill, node in RenderTree(l[0]):\n",
    "    print(\"%s%s\" % (pre, node.name))"
   ]
  },
  {
   "cell_type": "code",
   "execution_count": null,
   "metadata": {},
   "outputs": [],
   "source": []
  }
 ],
 "metadata": {
  "kernelspec": {
   "display_name": "Python 3",
   "language": "python",
   "name": "python3"
  },
  "language_info": {
   "codemirror_mode": {
    "name": "ipython",
    "version": 3
   },
   "file_extension": ".py",
   "mimetype": "text/x-python",
   "name": "python",
   "nbconvert_exporter": "python",
   "pygments_lexer": "ipython3",
   "version": "3.6.4"
  }
 },
 "nbformat": 4,
 "nbformat_minor": 2
}
