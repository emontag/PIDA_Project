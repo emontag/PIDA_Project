{
 "cells": [
  {
   "cell_type": "markdown",
   "metadata": {},
   "source": [
    "## Do all preliminary operations"
   ]
  },
  {
   "cell_type": "code",
   "execution_count": 1,
   "metadata": {},
   "outputs": [],
   "source": [
    "%matplotlib inline"
   ]
  },
  {
   "cell_type": "code",
   "execution_count": 2,
   "metadata": {},
   "outputs": [],
   "source": [
    "import os\n",
    "import json\n",
    "import matplotlib.pyplot as plt"
   ]
  },
  {
   "cell_type": "code",
   "execution_count": 3,
   "metadata": {},
   "outputs": [
    {
     "name": "stdout",
     "output_type": "stream",
     "text": [
      "C:\\Users\\ephra\\Documents\\GitHub\\PIDA_Project\\json\n"
     ]
    }
   ],
   "source": [
    "json_wd = os.path.join(os.getcwd(),'json')\n",
    "print (json_wd)"
   ]
  },
  {
   "cell_type": "code",
   "execution_count": 4,
   "metadata": {},
   "outputs": [],
   "source": [
    "from os import listdir\n",
    "from os.path import isfile, join\n",
    "\n",
    "jsonfiles = [f for f in listdir(json_wd) if isfile(join(json_wd, f))]"
   ]
  },
  {
   "cell_type": "code",
   "execution_count": 5,
   "metadata": {},
   "outputs": [
    {
     "name": "stdout",
     "output_type": "stream",
     "text": [
      "3\n"
     ]
    }
   ],
   "source": [
    "print(len(jsonfiles))"
   ]
  },
  {
   "cell_type": "markdown",
   "metadata": {},
   "source": [
    "## Import JSON files"
   ]
  },
  {
   "cell_type": "code",
   "execution_count": 6,
   "metadata": {},
   "outputs": [
    {
     "name": "stdout",
     "output_type": "stream",
     "text": [
      "[{'Apple': {'core': ['tag1', 'orange'], 'shell': ['teeth', 'again']}}]\n"
     ]
    }
   ],
   "source": [
    "#input all json files and load into list\n",
    "all_files=[]\n",
    "for filename in jsonfiles:\n",
    "    file=open(os.path.join(json_wd, filename))\n",
    "    data=json.load(file)\n",
    "    all_files.append(data)\n",
    "    file.close()\n",
    "    #data=json.loads(filename)\n",
    "print (all_files[:1])"
   ]
  },
  {
   "cell_type": "markdown",
   "metadata": {},
   "source": [
    "## Make all the connections"
   ]
  },
  {
   "cell_type": "code",
   "execution_count": 7,
   "metadata": {},
   "outputs": [
    {
     "name": "stdout",
     "output_type": "stream",
     "text": [
      "Apple and 311 are linked at column core and column test through tag tag1\n",
      "Apple and Bob are linked at column shell and column ele through tag again\n",
      "Apple and 311 are linked at column shell and column test1 through tag again\n",
      "Bob and 311 are linked at column data and column test1 through tag another\n",
      "Bob and 311 are linked at column ele and column test1 through tag another\n",
      "Bob and 311 are linked at column ele and column test1 through tag again\n",
      "6\n"
     ]
    }
   ],
   "source": [
    "all_links=[]\n",
    "dataset_list=[]\n",
    "for index, file in enumerate(all_files):\n",
    "    #print (list(file.keys())[0], \"is the name of the dataset\")\n",
    "    name=list(file.keys())[0]\n",
    "    dataset_list.append(name)\n",
    "    #print (list(file[name].keys()), \"are the column names\")\n",
    "    for col in file[name].keys():\n",
    "        #print (\"Under column \", col, \"are tags \", file[name][col])\n",
    "        for tag in file[name][col]:\n",
    "            #print (\"Tag: \", tag)\n",
    "            for secondindex in range (index+1, len(all_files)):\n",
    "                secondname=list(all_files[secondindex].keys())[0]\n",
    "                for secondcol in all_files[secondindex][secondname].keys():\n",
    "                    #print (\"Under second column \", secondcol, \"are tags \", all_files[secondindex][secondname][secondcol])\n",
    "                    for secondtag in all_files[secondindex][secondname][secondcol]:\n",
    "                        #print (\"Tag: \", secondtag)\n",
    "                        #do all checking for common tags here\n",
    "                        if tag.upper()==secondtag.upper():\n",
    "                            print (name, \"and\", secondname, \"are linked at column\", col, \"and column\", secondcol, \"through tag\", tag)\n",
    "                            all_links.append([name.upper(), col.upper(), tag.upper() , secondname.upper(), secondcol.upper(), secondtag.upper()])\n",
    "                        #do all checking for common tags here\n",
    "print (len(all_links))"
   ]
  },
  {
   "cell_type": "markdown",
   "metadata": {},
   "source": [
    "## Reformat list for easy access"
   ]
  },
  {
   "cell_type": "code",
   "execution_count": 8,
   "metadata": {},
   "outputs": [
    {
     "name": "stdout",
     "output_type": "stream",
     "text": [
      "[['TAG1', 'CORE', 'APPLE', 'TEST', '311'], ['AGAIN', 'SHELL', 'APPLE', 'ELE', 'BOB'], ['AGAIN', 'SHELL', 'APPLE', 'TEST1', '311'], ['ANOTHER', 'DATA', 'BOB', 'TEST1', '311'], ['ANOTHER', 'ELE', 'BOB', 'TEST1', '311'], ['AGAIN', 'ELE', 'BOB', 'TEST1', '311']]\n"
     ]
    }
   ],
   "source": [
    "full_tree=[]#make tag most important\n",
    "for sublist in all_links:\n",
    "    tag=sublist[2]\n",
    "    col1=sublist[1]\n",
    "    col2=sublist[4]\n",
    "    dataset1=sublist[0]\n",
    "    dataset2=sublist[3]\n",
    "    full_tree.append([tag, col1, dataset1, col2, dataset2])\n",
    "print (full_tree)"
   ]
  },
  {
   "cell_type": "markdown",
   "metadata": {},
   "source": [
    "# Basic Data analysis "
   ]
  },
  {
   "cell_type": "markdown",
   "metadata": {},
   "source": [
    "## Number of times each tag appears"
   ]
  },
  {
   "cell_type": "code",
   "execution_count": 9,
   "metadata": {},
   "outputs": [
    {
     "name": "stdout",
     "output_type": "stream",
     "text": [
      "{'TAG1': 1, 'AGAIN': 3, 'ANOTHER': 2}\n"
     ]
    }
   ],
   "source": [
    "tag_dict={}\n",
    "for sublist in full_tree:\n",
    "    try:\n",
    "        tag_dict[sublist[0]]+=1\n",
    "    except Exception:\n",
    "        tag_dict[sublist[0]]=1\n",
    "print (tag_dict)"
   ]
  },
  {
   "cell_type": "code",
   "execution_count": 10,
   "metadata": {},
   "outputs": [
    {
     "data": {
      "text/plain": [
       "<Container object of 3 artists>"
      ]
     },
     "execution_count": 10,
     "metadata": {},
     "output_type": "execute_result"
    },
    {
     "data": {
      "image/png": "[encoded data removed]",
      "text/plain": [
       "<matplotlib.figure.Figure at 0x206fc5d3710>"
      ]
     },
     "metadata": {},
     "output_type": "display_data"
    }
   ],
   "source": [
    "plt.bar(tag_dict.keys(), tag_dict.values(), .5, color='b')"
   ]
  },
  {
   "cell_type": "markdown",
   "metadata": {},
   "source": [
    "## Number of times each column has associated tags"
   ]
  },
  {
   "cell_type": "code",
   "execution_count": 11,
   "metadata": {},
   "outputs": [
    {
     "name": "stdout",
     "output_type": "stream",
     "text": [
      "{'CORE': 1, 'TEST': 1, 'SHELL': 2, 'ELE': 3, 'TEST1': 4, 'DATA': 1}\n"
     ]
    }
   ],
   "source": [
    "col_dict={}\n",
    "for sublist in full_tree:\n",
    "    try:\n",
    "        col_dict[sublist[1]]+=1\n",
    "    except Exception:\n",
    "        col_dict[sublist[1]]=1\n",
    "    try:\n",
    "        col_dict[sublist[3]]+=1\n",
    "    except Exception:\n",
    "        col_dict[sublist[3]]=1\n",
    "print (col_dict)"
   ]
  },
  {
   "cell_type": "code",
   "execution_count": 12,
   "metadata": {},
   "outputs": [
    {
     "data": {
      "text/plain": [
       "<Container object of 6 artists>"
      ]
     },
     "execution_count": 12,
     "metadata": {},
     "output_type": "execute_result"
    },
    {
     "data": {
      "image/png": "[encoded data removed]",
      "text/plain": [
       "<matplotlib.figure.Figure at 0x206fc6d5e10>"
      ]
     },
     "metadata": {},
     "output_type": "display_data"
    }
   ],
   "source": [
    "plt.bar(col_dict.keys(), col_dict.values(), .5, color='g')"
   ]
  },
  {
   "cell_type": "markdown",
   "metadata": {},
   "source": [
    "## Number of links each dataset has"
   ]
  },
  {
   "cell_type": "code",
   "execution_count": 13,
   "metadata": {},
   "outputs": [
    {
     "name": "stdout",
     "output_type": "stream",
     "text": [
      "{'APPLE': 3, '311': 5, 'BOB': 4}\n"
     ]
    }
   ],
   "source": [
    "dataset_dict={}\n",
    "for sublist in full_tree:\n",
    "    try:\n",
    "        dataset_dict[sublist[2]]+=1\n",
    "    except Exception:\n",
    "        dataset_dict[sublist[2]]=1\n",
    "    try:\n",
    "        dataset_dict[sublist[4]]+=1\n",
    "    except Exception:\n",
    "        dataset_dict[sublist[4]]=1\n",
    "print (dataset_dict)"
   ]
  },
  {
   "cell_type": "code",
   "execution_count": 14,
   "metadata": {},
   "outputs": [
    {
     "data": {
      "text/plain": [
       "<Container object of 3 artists>"
      ]
     },
     "execution_count": 14,
     "metadata": {},
     "output_type": "execute_result"
    },
    {
     "data": {
      "image/png": "[encoded data removed]",
      "text/plain": [
       "<matplotlib.figure.Figure at 0x206fc7627b8>"
      ]
     },
     "metadata": {},
     "output_type": "display_data"
    }
   ],
   "source": [
    "plt.bar(dataset_dict.keys(), dataset_dict.values(), .5, color='r')"
   ]
  },
  {
   "cell_type": "code",
   "execution_count": 15,
   "metadata": {},
   "outputs": [],
   "source": [
    "full_tree=sorted(full_tree)"
   ]
  },
  {
   "cell_type": "code",
   "execution_count": 16,
   "metadata": {},
   "outputs": [
    {
     "name": "stdout",
     "output_type": "stream",
     "text": [
      "All_Tags\n",
      "├── AGAIN\n",
      "│   ├── ELE\n",
      "│   │   └── BOB\n",
      "│   ├── TEST1\n",
      "│   │   └── 311\n",
      "│   └── SHELL\n",
      "│       └── APPLE\n",
      "├── ANOTHER\n",
      "│   └── DATA\n",
      "└── TAG1\n",
      "    ├── CORE\n",
      "    └── TEST\n"
     ]
    }
   ],
   "source": [
    "from anytree import Node, RenderTree, Resolver\n",
    "from anytree.search import find\n",
    "resolver=Resolver('name')\n",
    "dummy=Node('All_Tags')\n",
    "for sublist in full_tree:#Tags\n",
    "    f=find(dummy, lambda node: node.name == sublist[0])\n",
    "    if f is None:\n",
    "        n=Node(sublist[0], parent=dummy)\n",
    "for sublist in full_tree:#Columns\n",
    "    f=find(dummy, lambda node: node.name == sublist[1])\n",
    "    if f is None:\n",
    "        g=find(dummy, lambda node: node.name == sublist[0])\n",
    "        n=Node(sublist[1], parent=g)   \n",
    "    f=find(dummy, lambda node: node.name == sublist[3])\n",
    "    if f is None:\n",
    "        g=find(dummy, lambda node: node.name == sublist[0])\n",
    "        n=Node(sublist[3], parent=g) \n",
    "o=None\n",
    "p=None\n",
    "for sublist in full_tree:#todo fix this part up\n",
    "    #pass\n",
    "    f=find(dummy, lambda node: node.name == sublist[2])\n",
    "    if f is None:\n",
    "        g=find(dummy, lambda node: node.name == sublist[1])\n",
    "        n=Node(sublist[2], parent=g)  \n",
    "    f=find(dummy, lambda node: node.name == sublist[4])\n",
    "    if f is None:\n",
    "        g=find(dummy, lambda node: node.name == sublist[3])\n",
    "        n=Node(sublist[4], parent=g)  \n",
    "    #f=find(r.get(dummy, sublist[0]), lambda node: node.name == sublist[2])\n",
    "    #if f is None:\n",
    "    #    g=find(dummy, lambda node: node.name == sublist[1])\n",
    "    #    n=Node(sublist[2], parent=g) \n",
    "    #g=find(dummy, lambda node: node.name == sublist[3])\n",
    "    #n=Node(sublist[4], parent=g)\n",
    "for pre, fill, node in RenderTree(dummy):\n",
    "    print(\"%s%s\" % (pre, node.name))"
   ]
  },
  {
   "cell_type": "code",
   "execution_count": null,
   "metadata": {},
   "outputs": [],
   "source": []
  }
 ],
 "metadata": {
  "kernelspec": {
   "display_name": "Python 3",
   "language": "python",
   "name": "python3"
  },
  "language_info": {
   "codemirror_mode": {
    "name": "ipython",
    "version": 3
   },
   "file_extension": ".py",
   "mimetype": "text/x-python",
   "name": "python",
   "nbconvert_exporter": "python",
   "pygments_lexer": "ipython3",
   "version": "3.6.4"
  }
 },
 "nbformat": 4,
 "nbformat_minor": 2
}
